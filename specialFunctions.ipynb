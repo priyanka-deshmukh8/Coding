{
 "cells": [
  {
   "cell_type": "code",
   "execution_count": 1,
   "id": "494e16a5",
   "metadata": {},
   "outputs": [],
   "source": [
    "#arange, linspace,Logspace functiions\n",
    "import numpy as np\n",
    "\n"
   ]
  },
  {
   "cell_type": "code",
   "execution_count": 3,
   "id": "ad611193",
   "metadata": {},
   "outputs": [
    {
     "name": "stdout",
     "output_type": "stream",
     "text": [
      "\n",
      "arange \n",
      " [ 1  3  5  7  9 11 13 15 17 19]\n",
      "\n",
      "linspace \n",
      " [ 1.   3.4  5.8  8.2 10.6 13.  15.4 17.8 20.2 22.6]\n",
      "\n",
      "logspace\n",
      " [2.71400000e+00 2.98039254e+01 3.27293282e+02 3.59418738e+03\n",
      " 3.94697467e+04 4.33438978e+05 4.75983159e+06 5.22703263e+07\n",
      " 5.74009176e+08 6.30351019e+09]\n"
     ]
    }
   ],
   "source": [
    "print(\"\\narange \\n\",np.arange(1,20, 2,dtype = int))\n",
    "print(\"\\nlinspace \\n\", np.linspace(1, 25, 10, endpoint = False))\n",
    "print(\"\\nlogspace\\n\",np.logspace(1, 25, 10, endpoint=False,base=2.714))"
   ]
  },
  {
   "cell_type": "code",
   "execution_count": 15,
   "id": "f1f5c3b8",
   "metadata": {},
   "outputs": [
    {
     "ename": "SyntaxError",
     "evalue": "invalid syntax (<ipython-input-15-06b798626a41>, line 10)",
     "output_type": "error",
     "traceback": [
      "\u001b[1;36m  File \u001b[1;32m\"<ipython-input-15-06b798626a41>\"\u001b[1;36m, line \u001b[1;32m10\u001b[0m\n\u001b[1;33m    print(\"order-A: \"C)\u001b[0m\n\u001b[1;37m                     ^\u001b[0m\n\u001b[1;31mSyntaxError\u001b[0m\u001b[1;31m:\u001b[0m invalid syntax\n"
     ]
    }
   ],
   "source": [
    "#Using flatten and reval\n",
    "a = np.array([[2,12], [5,6], [8,4]])\n",
    "b = a.flatten()\n",
    "print(f\"a: \\n{a}\")\n",
    "print(f\"\\nflattened a: \\n{b}\\n\")\n",
    "print(\"ravel with a:\\n\")\n",
    "c = np.ravel(a,order=\"F\")\n",
    "print(\"order-F : \",c)\n",
    "np.ravel(a,order=\"A\")\n",
    "print(\"order-A: \"C)\n",
    "C np.ravel(a,order=\"C\")\n",
    "print(\"order-C:\",c)\n",
    "c np.ravel(a,order=\"k\"))\n",
    "print(\"order-K:\",c)"
   ]
  },
  {
   "cell_type": "code",
   "execution_count": null,
   "id": "b2334d83",
   "metadata": {},
   "outputs": [],
   "source": []
  }
 ],
 "metadata": {
  "kernelspec": {
   "display_name": "Python 3",
   "language": "python",
   "name": "python3"
  },
  "language_info": {
   "codemirror_mode": {
    "name": "ipython",
    "version": 3
   },
   "file_extension": ".py",
   "mimetype": "text/x-python",
   "name": "python",
   "nbconvert_exporter": "python",
   "pygments_lexer": "ipython3",
   "version": "3.8.8"
  }
 },
 "nbformat": 4,
 "nbformat_minor": 5
}
